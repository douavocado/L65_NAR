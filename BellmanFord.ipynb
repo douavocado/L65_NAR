{
 "cells": [
  {
   "cell_type": "code",
   "execution_count": 1,
   "id": "7ebbf0d5-846e-4e13-bba8-9c2b4a1b0edc",
   "metadata": {},
   "outputs": [
    {
     "name": "stderr",
     "output_type": "stream",
     "text": [
      "2025-02-21 12:41:35.522159: E external/local_xla/xla/stream_executor/cuda/cuda_fft.cc:477] Unable to register cuFFT factory: Attempting to register factory for plugin cuFFT when one has already been registered\n",
      "WARNING: All log messages before absl::InitializeLog() is called are written to STDERR\n",
      "E0000 00:00:1740141695.531712   35598 cuda_dnn.cc:8310] Unable to register cuDNN factory: Attempting to register factory for plugin cuDNN when one has already been registered\n",
      "E0000 00:00:1740141695.534492   35598 cuda_blas.cc:1418] Unable to register cuBLAS factory: Attempting to register factory for plugin cuBLAS when one has already been registered\n"
     ]
    },
    {
     "name": "stdout",
     "output_type": "stream",
     "text": [
      "DataPoint(name=\"pi_h\",\tlocation=node,\ttype=pointer,\tdata=Array(7, 1000, 7))\n",
      "DataPoint(name=\"d\",\tlocation=node,\ttype=scalar,\tdata=Array(7, 1000, 7))\n",
      "DataPoint(name=\"msk\",\tlocation=node,\ttype=mask,\tdata=Array(7, 1000, 7))\n",
      "DataPoint(name=\"labels\",\tlocation=node,\ttype=text,\tdata=Array(7, 1000, 2))\n"
     ]
    },
    {
     "ename": "ValueError",
     "evalue": "could not convert string to float: np.str_('distance of n.6 updated through n.3 to 0.17721003481864148')",
     "output_type": "error",
     "traceback": [
      "\u001b[0;31m---------------------------------------------------------------------------\u001b[0m",
      "\u001b[0;31mValueError\u001b[0m                                Traceback (most recent call last)",
      "Cell \u001b[0;32mIn[1], line 10\u001b[0m\n\u001b[1;32m      7\u001b[0m NUM_SAMPLES \u001b[38;5;241m=\u001b[39m \u001b[38;5;241m1000\u001b[39m\n\u001b[1;32m      9\u001b[0m \u001b[38;5;66;03m# Create samplers\u001b[39;00m\n\u001b[0;32m---> 10\u001b[0m sampler, spec \u001b[38;5;241m=\u001b[39m clrs\u001b[38;5;241m.\u001b[39mbuild_sampler(\n\u001b[1;32m     11\u001b[0m         \u001b[38;5;124m\"\u001b[39m\u001b[38;5;124mbellman_ford\u001b[39m\u001b[38;5;124m\"\u001b[39m,\n\u001b[1;32m     12\u001b[0m         seed\u001b[38;5;241m=\u001b[39mrng\u001b[38;5;241m.\u001b[39mrandint(\u001b[38;5;241m2\u001b[39m\u001b[38;5;241m*\u001b[39m\u001b[38;5;241m*\u001b[39m\u001b[38;5;241m32\u001b[39m),\n\u001b[1;32m     13\u001b[0m         num_samples\u001b[38;5;241m=\u001b[39mNUM_SAMPLES,\n\u001b[1;32m     14\u001b[0m         length\u001b[38;5;241m=\u001b[39m\u001b[38;5;241m7\u001b[39m,\n\u001b[1;32m     15\u001b[0m         )\n",
      "File \u001b[0;32m~/Documents/UniWork/GDL/NAR_project/clrs/clrs/_src/samplers.py:343\u001b[0m, in \u001b[0;36mbuild_sampler\u001b[0;34m(name, num_samples, seed, track_max_steps, truncate_decimals, *args, **kwargs)\u001b[0m\n\u001b[1;32m    340\u001b[0m \u001b[38;5;28;01mif\u001b[39;00m \u001b[38;5;28mset\u001b[39m(clean_kwargs) \u001b[38;5;241m!=\u001b[39m \u001b[38;5;28mset\u001b[39m(kwargs):\n\u001b[1;32m    341\u001b[0m   logging\u001b[38;5;241m.\u001b[39mwarning(\u001b[38;5;124m'\u001b[39m\u001b[38;5;124mIgnoring kwargs \u001b[39m\u001b[38;5;132;01m%s\u001b[39;00m\u001b[38;5;124m when building sampler class \u001b[39m\u001b[38;5;132;01m%s\u001b[39;00m\u001b[38;5;124m'\u001b[39m,\n\u001b[1;32m    342\u001b[0m                   \u001b[38;5;28mset\u001b[39m(kwargs)\u001b[38;5;241m.\u001b[39mdifference(clean_kwargs), sampler_class)\n\u001b[0;32m--> 343\u001b[0m sampler \u001b[38;5;241m=\u001b[39m sampler_class(\n\u001b[1;32m    344\u001b[0m     algorithm,\n\u001b[1;32m    345\u001b[0m     spec,\n\u001b[1;32m    346\u001b[0m     num_samples,\n\u001b[1;32m    347\u001b[0m     seed\u001b[38;5;241m=\u001b[39mseed,\n\u001b[1;32m    348\u001b[0m     track_max_steps\u001b[38;5;241m=\u001b[39mtrack_max_steps,\n\u001b[1;32m    349\u001b[0m     truncate_decimals\u001b[38;5;241m=\u001b[39mtruncate_decimals,\n\u001b[1;32m    350\u001b[0m     \u001b[38;5;241m*\u001b[39margs,\n\u001b[1;32m    351\u001b[0m     \u001b[38;5;241m*\u001b[39m\u001b[38;5;241m*\u001b[39mclean_kwargs,\n\u001b[1;32m    352\u001b[0m )\n\u001b[1;32m    353\u001b[0m \u001b[38;5;28;01mreturn\u001b[39;00m sampler, spec\n",
      "File \u001b[0;32m~/Documents/UniWork/GDL/NAR_project/clrs/clrs/_src/samplers.py:132\u001b[0m, in \u001b[0;36mSampler.__init__\u001b[0;34m(self, algorithm, spec, num_samples, seed, track_max_steps, truncate_decimals, *args, **kwargs)\u001b[0m\n\u001b[1;32m    129\u001b[0m \u001b[38;5;28;01melse\u001b[39;00m:\n\u001b[1;32m    130\u001b[0m   logging\u001b[38;5;241m.\u001b[39minfo(\u001b[38;5;124m'\u001b[39m\u001b[38;5;124mCreating a dataset with \u001b[39m\u001b[38;5;132;01m%i\u001b[39;00m\u001b[38;5;124m samples.\u001b[39m\u001b[38;5;124m'\u001b[39m, num_samples)\n\u001b[1;32m    131\u001b[0m   (\u001b[38;5;28mself\u001b[39m\u001b[38;5;241m.\u001b[39m_inputs, \u001b[38;5;28mself\u001b[39m\u001b[38;5;241m.\u001b[39m_outputs, \u001b[38;5;28mself\u001b[39m\u001b[38;5;241m.\u001b[39m_hints,\n\u001b[0;32m--> 132\u001b[0m    \u001b[38;5;28mself\u001b[39m\u001b[38;5;241m.\u001b[39m_lengths) \u001b[38;5;241m=\u001b[39m \u001b[38;5;28mself\u001b[39m\u001b[38;5;241m.\u001b[39m_make_batch(num_samples, spec, \u001b[38;5;241m0\u001b[39m, algorithm, \u001b[38;5;241m*\u001b[39margs,\n\u001b[1;32m    133\u001b[0m                                      \u001b[38;5;241m*\u001b[39m\u001b[38;5;241m*\u001b[39mkwargs)\n",
      "File \u001b[0;32m~/Documents/UniWork/GDL/NAR_project/clrs/clrs/_src/samplers.py:165\u001b[0m, in \u001b[0;36mSampler._make_batch\u001b[0;34m(self, num_samples, spec, min_length, algorithm, *args, **kwargs)\u001b[0m\n\u001b[1;32m    163\u001b[0m inputs \u001b[38;5;241m=\u001b[39m _batch_io(inputs)\n\u001b[1;32m    164\u001b[0m outputs \u001b[38;5;241m=\u001b[39m _batch_io(outputs)\n\u001b[0;32m--> 165\u001b[0m hints, lengths \u001b[38;5;241m=\u001b[39m _batch_hints(hints, min_length)\n\u001b[1;32m    166\u001b[0m \u001b[38;5;28;01mreturn\u001b[39;00m inputs, outputs, hints, lengths\n",
      "File \u001b[0;32m~/Documents/UniWork/GDL/NAR_project/clrs/clrs/_src/samplers.py:905\u001b[0m, in \u001b[0;36m_batch_hints\u001b[0;34m(traj_hints, min_steps)\u001b[0m\n\u001b[1;32m    903\u001b[0m cur_length \u001b[38;5;241m=\u001b[39m cur_data\u001b[38;5;241m.\u001b[39mshape[\u001b[38;5;241m0\u001b[39m]\n\u001b[1;32m    904\u001b[0m \u001b[38;5;28mprint\u001b[39m(batched_traj[i])\n\u001b[0;32m--> 905\u001b[0m batched_traj[i]\u001b[38;5;241m.\u001b[39mdata[:cur_length, sample_idx:sample_idx\u001b[38;5;241m+\u001b[39m\u001b[38;5;241m1\u001b[39m] \u001b[38;5;241m=\u001b[39m cur_data\n\u001b[1;32m    906\u001b[0m \u001b[38;5;28;01mif\u001b[39;00m i \u001b[38;5;241m>\u001b[39m \u001b[38;5;241m0\u001b[39m:\n\u001b[1;32m    907\u001b[0m   \u001b[38;5;28;01massert\u001b[39;00m hint_lengths[sample_idx] \u001b[38;5;241m==\u001b[39m cur_length\n",
      "\u001b[0;31mValueError\u001b[0m: could not convert string to float: np.str_('distance of n.6 updated through n.3 to 0.17721003481864148')"
     ]
    }
   ],
   "source": [
    "import clrs\n",
    "import jax\n",
    "import numpy as np\n",
    "\n",
    "rng = np.random.RandomState(42)\n",
    "rng_key = jax.random.PRNGKey(rng.randint(2**32))\n",
    "NUM_SAMPLES = 1000\n",
    "\n",
    "# Create samplers\n",
    "sampler, spec = clrs.build_sampler(\n",
    "        \"bellman_ford\",\n",
    "        seed=rng.randint(2**32),\n",
    "        num_samples=NUM_SAMPLES,\n",
    "        length=7,\n",
    "        )\n",
    "# batch_size = feedback.outputs[0].data.shape[0]\n",
    "# new_rng_key, rng_key = jax.random.split(rng_key)\n"
   ]
  },
  {
   "cell_type": "code",
   "execution_count": 2,
   "id": "33c96977-11f2-45f9-ab51-8452c433e5c6",
   "metadata": {},
   "outputs": [],
   "source": [
    "import numpy as np\n",
    "import networkx as nx\n",
    "import matplotlib.pyplot as plt\n",
    "\n",
    "def visualize_graph_from_adjacency_matrix(adjacency_matrix, weight_matrix=None):\n",
    "    \"\"\"\n",
    "    Visualizes a graph with explicit arrows and labeled edge weights (adjacent).\n",
    "\n",
    "    Args:\n",
    "        adjacency_matrix: Adjacency matrix (NumPy array).\n",
    "        weight_matrix: Optional weight matrix (NumPy array).\n",
    "    \"\"\"\n",
    "\n",
    "    adjacency_matrix = np.array(adjacency_matrix)\n",
    "    if adjacency_matrix.shape[0] != adjacency_matrix.shape[1]:\n",
    "        raise ValueError(\"Adjacency matrix must be square.\")\n",
    "    num_nodes = adjacency_matrix.shape[0]\n",
    "\n",
    "    if weight_matrix is None:\n",
    "        weight_matrix = np.ones_like(adjacency_matrix)\n",
    "    else:\n",
    "        weight_matrix = np.array(weight_matrix)\n",
    "        if weight_matrix.shape != adjacency_matrix.shape:\n",
    "            raise ValueError(\"Weight matrix must have the same dimensions.\")\n",
    "\n",
    "    directed_graph = nx.DiGraph()\n",
    "    undirected_graph = nx.Graph()\n",
    "\n",
    "    for i in range(num_nodes):\n",
    "        directed_graph.add_node(i)\n",
    "        undirected_graph.add_node(i)\n",
    "\n",
    "    for i in range(num_nodes):\n",
    "        for j in range(num_nodes):\n",
    "            if i != j:\n",
    "                if adjacency_matrix[i, j] != 0:\n",
    "                    weight = round(weight_matrix[i, j], 2)\n",
    "                    if adjacency_matrix[j, i] != 0:\n",
    "                        if i < j:\n",
    "                            undirected_graph.add_edge(i, j, weight=weight)\n",
    "                    else:\n",
    "                        directed_graph.add_edge(i, j, weight=weight)\n",
    "\n",
    "    pos = nx.spring_layout(undirected_graph)  # Layout based on undirected\n",
    "\n",
    "    plt.figure(figsize=(8, 6))\n",
    "\n",
    "    # Draw undirected edges (no arrows)\n",
    "    nx.draw_networkx_edges(undirected_graph, pos, edge_color='gray', width=2, arrows=False)\n",
    "    edge_labels_undirected = nx.get_edge_attributes(undirected_graph, 'weight')\n",
    "    # Use label_pos and rotate for adjacent labels\n",
    "    nx.draw_networkx_edge_labels(undirected_graph, pos, edge_labels=edge_labels_undirected,\n",
    "                                 label_pos=0.3, rotate=True)\n",
    "\n",
    "    # Draw directed edges with explicit arrows\n",
    "    nx.draw_networkx_edges(directed_graph, pos, edge_color='black', width=1,\n",
    "                           arrowstyle='->', arrowsize=15)\n",
    "    edge_labels_directed = nx.get_edge_attributes(directed_graph, 'weight')\n",
    "    # Use label_pos and rotate for adjacent labels\n",
    "    nx.draw_networkx_edge_labels(directed_graph, pos, edge_labels=edge_labels_directed,\n",
    "                                 label_pos=0.3, rotate=True)\n",
    "\n",
    "    nx.draw_networkx_nodes(directed_graph, pos, node_color='skyblue', node_size=500)\n",
    "    nx.draw_networkx_labels(directed_graph, pos)\n",
    "\n",
    "    plt.title(\"Graph Visualization\")\n",
    "    plt.axis('off')\n",
    "    plt.show()"
   ]
  },
  {
   "cell_type": "code",
   "execution_count": 3,
   "id": "ec11e83a-b751-4495-b2d1-bb3e5c1c002b",
   "metadata": {},
   "outputs": [],
   "source": [
    "feedback = sampler.next()"
   ]
  },
  {
   "cell_type": "code",
   "execution_count": 16,
   "id": "374bb5f7-1b8e-411d-ab45-9303c59488c5",
   "metadata": {},
   "outputs": [],
   "source": [
    "import random\n",
    "item = random.randint(1, NUM_SAMPLES) - 1"
   ]
  },
  {
   "cell_type": "code",
   "execution_count": 17,
   "id": "390676b3-f09b-47a3-bc1e-3feb507bbf28",
   "metadata": {},
   "outputs": [],
   "source": [
    "weights = feedback.features.inputs[2].data[item]\n",
    "adj = feedback.features.inputs[3].data[item]"
   ]
  },
  {
   "cell_type": "code",
   "execution_count": 18,
   "id": "2740d1dd-ef34-4a12-b903-59ce952aa19b",
   "metadata": {},
   "outputs": [
    {
     "data": {
      "image/png": "[encoded data removed]",
      "text/plain": [
       "<Figure size 800x600 with 1 Axes>"
      ]
     },
     "metadata": {},
     "output_type": "display_data"
    }
   ],
   "source": [
    "visualize_graph_from_adjacency_matrix(adj, weights)"
   ]
  },
  {
   "cell_type": "code",
   "execution_count": 33,
   "id": "4cef1909-4f27-4a16-b75a-17eb26747ea6",
   "metadata": {},
   "outputs": [
    {
     "data": {
      "text/plain": [
       "array([1, 1, 1, 1, 2, 5, 2])"
      ]
     },
     "execution_count": 33,
     "metadata": {},
     "output_type": "execute_result"
    }
   ],
   "source": [
    "feedback.outputs[0].data[item] # pi ground truth"
   ]
  },
  {
   "cell_type": "code",
   "execution_count": 20,
   "id": "5d5c5e7f-7df0-4712-919c-e3dcf54025e8",
   "metadata": {},
   "outputs": [
    {
     "data": {
      "text/plain": [
       "array([0., 1., 0., 0., 0., 0., 0.])"
      ]
     },
     "execution_count": 20,
     "metadata": {},
     "output_type": "execute_result"
    }
   ],
   "source": [
    "feedback.features.inputs[1].data[item] # starting value"
   ]
  },
  {
   "cell_type": "code",
   "execution_count": 21,
   "id": "b1be8076-4b97-49e3-86ec-6afacb7dd76c",
   "metadata": {},
   "outputs": [
    {
     "data": {
      "text/plain": [
       "{'pos': ('input', 'node', 'scalar'),\n",
       " 's': ('input', 'node', 'mask_one'),\n",
       " 'A': ('input', 'edge', 'scalar'),\n",
       " 'adj': ('input', 'edge', 'mask'),\n",
       " 'pi': ('output', 'node', 'pointer'),\n",
       " 'pi_h': ('hint', 'node', 'pointer'),\n",
       " 'd': ('hint', 'node', 'scalar'),\n",
       " 'msk': ('hint', 'node', 'mask')}"
      ]
     },
     "execution_count": 21,
     "metadata": {},
     "output_type": "execute_result"
    }
   ],
   "source": [
    "spec"
   ]
  },
  {
   "cell_type": "code",
   "execution_count": 28,
   "id": "c0f509a4-eef8-436b-b5d1-4e56744b8f95",
   "metadata": {},
   "outputs": [
    {
     "data": {
      "text/plain": [
       "array([[0., 1., 2., 3., 4., 5., 6.],\n",
       "       [1., 1., 1., 1., 4., 5., 6.],\n",
       "       [1., 1., 1., 1., 2., 5., 2.],\n",
       "       [0., 0., 0., 0., 0., 0., 0.],\n",
       "       [0., 0., 0., 0., 0., 0., 0.],\n",
       "       [0., 0., 0., 0., 0., 0., 0.],\n",
       "       [0., 0., 0., 0., 0., 0., 0.]])"
      ]
     },
     "execution_count": 28,
     "metadata": {},
     "output_type": "execute_result"
    }
   ],
   "source": [
    "feedback.features.hints[0].data[:,item,:] #pi hints"
   ]
  },
  {
   "cell_type": "code",
   "execution_count": 30,
   "id": "6645cede-0d56-4044-9d95-3eb0c502db51",
   "metadata": {},
   "outputs": [
    {
     "data": {
      "text/plain": [
       "array([[0.        , 0.        , 0.        , 0.        , 0.        ,\n",
       "        0.        , 0.        ],\n",
       "       [0.58274484, 0.        , 0.49828815, 0.13203931, 0.        ,\n",
       "        0.        , 0.        ],\n",
       "       [0.58274484, 0.        , 0.49828815, 0.13203931, 0.88920479,\n",
       "        0.        , 1.29130974],\n",
       "       [0.        , 0.        , 0.        , 0.        , 0.        ,\n",
       "        0.        , 0.        ],\n",
       "       [0.        , 0.        , 0.        , 0.        , 0.        ,\n",
       "        0.        , 0.        ],\n",
       "       [0.        , 0.        , 0.        , 0.        , 0.        ,\n",
       "        0.        , 0.        ],\n",
       "       [0.        , 0.        , 0.        , 0.        , 0.        ,\n",
       "        0.        , 0.        ]])"
      ]
     },
     "execution_count": 30,
     "metadata": {},
     "output_type": "execute_result"
    }
   ],
   "source": [
    "feedback.features.hints[1].data[:,item,:] #current best distances"
   ]
  },
  {
   "cell_type": "code",
   "execution_count": 32,
   "id": "41c022e9-50e6-4f48-8470-5f3d57c88783",
   "metadata": {},
   "outputs": [
    {
     "data": {
      "text/plain": [
       "array([[0., 1., 0., 0., 0., 0., 0.],\n",
       "       [1., 1., 1., 1., 0., 0., 0.],\n",
       "       [1., 1., 1., 1., 1., 0., 1.],\n",
       "       [0., 0., 0., 0., 0., 0., 0.],\n",
       "       [0., 0., 0., 0., 0., 0., 0.],\n",
       "       [0., 0., 0., 0., 0., 0., 0.],\n",
       "       [0., 0., 0., 0., 0., 0., 0.]])"
      ]
     },
     "execution_count": 32,
     "metadata": {},
     "output_type": "execute_result"
    }
   ],
   "source": [
    "feedback.features.hints[2].data[:,item,:] #msk for nodes explored at each step"
   ]
  },
  {
   "cell_type": "code",
   "execution_count": null,
   "id": "2e341bc7-72b5-4698-a7eb-1f3eff56b5f8",
   "metadata": {},
   "outputs": [],
   "source": []
  }
 ],
 "metadata": {
  "kernelspec": {
   "display_name": "Python 3 (ipykernel)",
   "language": "python",
   "name": "python3"
  },
  "language_info": {
   "codemirror_mode": {
    "name": "ipython",
    "version": 3
   },
   "file_extension": ".py",
   "mimetype": "text/x-python",
   "name": "python",
   "nbconvert_exporter": "python",
   "pygments_lexer": "ipython3",
   "version": "3.11.11"
  }
 },
 "nbformat": 4,
 "nbformat_minor": 5
}
