{
 "cells": [
  {
   "cell_type": "code",
   "execution_count": 1,
   "id": "7ebbf0d5-846e-4e13-bba8-9c2b4a1b0edc",
   "metadata": {},
   "outputs": [
    {
     "name": "stderr",
     "output_type": "stream",
     "text": [
      "2025-03-09 17:57:47.366612: E external/local_xla/xla/stream_executor/cuda/cuda_fft.cc:477] Unable to register cuFFT factory: Attempting to register factory for plugin cuFFT when one has already been registered\n",
      "WARNING: All log messages before absl::InitializeLog() is called are written to STDERR\n",
      "E0000 00:00:1741543067.377468   54531 cuda_dnn.cc:8310] Unable to register cuDNN factory: Attempting to register factory for plugin cuDNN when one has already been registered\n",
      "E0000 00:00:1741543067.380939   54531 cuda_blas.cc:1418] Unable to register cuBLAS factory: Attempting to register factory for plugin cuBLAS when one has already been registered\n"
     ]
    }
   ],
   "source": [
    "import clrs\n",
    "import jax\n",
    "import numpy as np\n",
    "\n",
    "rng = np.random.RandomState(42)\n",
    "rng_key = jax.random.PRNGKey(rng.randint(2**32, dtype=np.int64))\n",
    "NUM_SAMPLES = 1000\n",
    "\n",
    "# Create samplers\n",
    "sampler, spec = clrs.build_sampler(\n",
    "        \"bellman_ford\",\n",
    "        seed=rng.randint(2**32, dtype=np.int64),\n",
    "        num_samples=NUM_SAMPLES,\n",
    "        length=7,\n",
    "        )\n",
    "# batch_size = feedback.outputs[0].data.shape[0]\n",
    "# new_rng_key, rng_key = jax.random.split(rng_key)\n"
   ]
  },
  {
   "cell_type": "code",
   "execution_count": 11,
   "id": "15ff9404",
   "metadata": {},
   "outputs": [],
   "source": [
    "from clrs._src.algorithms.graphs import bfs\n",
    "\n",
    "feedback = sampler.next()\n",
    "import random\n",
    "item = random.randint(1, NUM_SAMPLES) - 1\n",
    "weights = feedback.features.inputs[2].data[item]\n",
    "adj = feedback.features.inputs[3].data[item]\n",
    "start_node = feedback.features.inputs[1].data[item].argmax()\n",
    "bfs_res =bfs(adj, start_node)"
   ]
  },
  {
   "cell_type": "code",
   "execution_count": 12,
   "id": "33c96977-11f2-45f9-ab51-8452c433e5c6",
   "metadata": {},
   "outputs": [
    {
     "data": {
      "image/png": "[encoded data removed]",
      "text/plain": [
       "<Figure size 800x600 with 1 Axes>"
      ]
     },
     "metadata": {},
     "output_type": "display_data"
    }
   ],
   "source": [
    "from interp.visualisation import visualize_graph_from_adjacency_matrix\n",
    "\n",
    "visualize_graph_from_adjacency_matrix(adj, weights, start_node)"
   ]
  },
  {
   "cell_type": "code",
   "execution_count": 45,
   "id": "5e29715c",
   "metadata": {},
   "outputs": [],
   "source": [
    "from clrs._src import probing\n",
    "from clrs._src.specs import SPECS\n",
    "\n",
    "bfs_spec = SPECS['bfs']\n",
    "inp, outp, hint = probing.split_stages(bfs_res[1], bfs_spec)"
   ]
  },
  {
   "cell_type": "code",
   "execution_count": 46,
   "id": "3464777e",
   "metadata": {},
   "outputs": [
    {
     "data": {
      "text/plain": [
       "[DataPoint(name=\"pos\",\tlocation=node,\ttype=scalar,\tdata=Array(1, 7)),\n",
       " DataPoint(name=\"s\",\tlocation=node,\ttype=mask_one,\tdata=Array(1, 7)),\n",
       " DataPoint(name=\"A\",\tlocation=edge,\ttype=scalar,\tdata=Array(1, 7, 7)),\n",
       " DataPoint(name=\"adj\",\tlocation=edge,\ttype=mask,\tdata=Array(1, 7, 7))]"
      ]
     },
     "execution_count": 46,
     "metadata": {},
     "output_type": "execute_result"
    }
   ],
   "source": [
    "inp"
   ]
  },
  {
   "cell_type": "code",
   "execution_count": 44,
   "id": "e7249165",
   "metadata": {},
   "outputs": [
    {
     "data": {
      "text/plain": [
       "(array([4, 1, 2, 0, 2, 3, 6]),\n",
       " {'input': {'node': {'pos': {'data': array([0.        , 0.14285714, 0.28571429, 0.42857143, 0.57142857,\n",
       "            0.71428571, 0.85714286]),\n",
       "     'type_': 'scalar'},\n",
       "    's': {'data': array([0., 0., 1., 0., 0., 0., 0.]), 'type_': 'mask_one'}},\n",
       "   'edge': {'A': {'data': array([[1., 0., 0., 1., 1., 0., 0.],\n",
       "            [0., 1., 0., 0., 0., 0., 1.],\n",
       "            [0., 0., 1., 0., 1., 0., 0.],\n",
       "            [1., 0., 0., 1., 0., 1., 0.],\n",
       "            [1., 0., 1., 0., 1., 0., 0.],\n",
       "            [0., 0., 0., 1., 0., 1., 0.],\n",
       "            [0., 1., 0., 0., 0., 0., 1.]]),\n",
       "     'type_': 'scalar'},\n",
       "    'adj': {'data': array([[1., 0., 0., 1., 1., 0., 0.],\n",
       "            [0., 1., 0., 0., 0., 0., 1.],\n",
       "            [0., 0., 1., 0., 1., 0., 0.],\n",
       "            [1., 0., 0., 1., 0., 1., 0.],\n",
       "            [1., 0., 1., 0., 1., 0., 0.],\n",
       "            [0., 0., 0., 1., 0., 1., 0.],\n",
       "            [0., 1., 0., 0., 0., 0., 1.]]),\n",
       "     'type_': 'mask'}},\n",
       "   'graph': {}},\n",
       "  'output': {'node': {'pi': {'data': array([4, 1, 2, 0, 2, 3, 6]),\n",
       "     'type_': 'pointer'}},\n",
       "   'edge': {},\n",
       "   'graph': {}},\n",
       "  'hint': {'node': {'reach_h': {'data': array([[0., 0., 1., 0., 0., 0., 0.],\n",
       "            [0., 0., 1., 0., 1., 0., 0.],\n",
       "            [1., 0., 1., 0., 1., 0., 0.],\n",
       "            [1., 0., 1., 1., 1., 0., 0.],\n",
       "            [1., 0., 1., 1., 1., 1., 0.]]),\n",
       "     'type_': 'mask'},\n",
       "    'pi_h': {'data': array([[0, 1, 2, 3, 4, 5, 6],\n",
       "            [0, 1, 2, 3, 2, 5, 6],\n",
       "            [4, 1, 2, 3, 2, 5, 6],\n",
       "            [4, 1, 2, 0, 2, 5, 6],\n",
       "            [4, 1, 2, 0, 2, 3, 6]]),\n",
       "     'type_': 'pointer'},\n",
       "    'upd_d': {'data': array([[0., 0., 1., 0., 0., 0., 0.],\n",
       "            [0., 0., 1., 0., 0., 0., 0.],\n",
       "            [0., 0., 1., 0., 1., 0., 0.],\n",
       "            [1., 0., 1., 0., 1., 0., 0.],\n",
       "            [1., 0., 1., 1., 1., 0., 0.]]),\n",
       "     'type_': 'scalar'},\n",
       "    'upd_pi': {'data': array([[0., 1., 2., 3., 4., 5., 6.],\n",
       "            [0., 1., 2., 3., 2., 5., 6.],\n",
       "            [4., 1., 2., 3., 4., 5., 6.],\n",
       "            [0., 1., 2., 0., 4., 5., 6.],\n",
       "            [0., 1., 2., 3., 4., 3., 6.]]),\n",
       "     'type_': 'pointer'}},\n",
       "   'edge': {},\n",
       "   'graph': {}}})"
      ]
     },
     "execution_count": 44,
     "metadata": {},
     "output_type": "execute_result"
    }
   ],
   "source": [
    "bfs_res"
   ]
  },
  {
   "cell_type": "code",
   "execution_count": 38,
   "id": "a60c7d99",
   "metadata": {},
   "outputs": [
    {
     "data": {
      "text/plain": [
       "array([[ True,  True,  True,  True,  True,  True,  True],\n",
       "       [ True,  True,  True,  True,  True,  True,  True],\n",
       "       [ True,  True,  True,  True,  True,  True,  True],\n",
       "       [ True,  True,  True,  True,  True,  True,  True],\n",
       "       [ True,  True,  True,  True,  True,  True,  True],\n",
       "       [ True,  True,  True,  True,  True,  True,  True],\n",
       "       [ True,  True,  True,  True,  True,  True,  True]])"
      ]
     },
     "execution_count": 38,
     "metadata": {},
     "output_type": "execute_result"
    }
   ],
   "source": [
    "feedback.features.inputs[3].data[item] == bfs_res[1]['input']['edge']['adj']['data']"
   ]
  }
 ],
 "metadata": {
  "kernelspec": {
   "display_name": "gdl_env",
   "language": "python",
   "name": "python3"
  },
  "language_info": {
   "codemirror_mode": {
    "name": "ipython",
    "version": 3
   },
   "file_extension": ".py",
   "mimetype": "text/x-python",
   "name": "python",
   "nbconvert_exporter": "python",
   "pygments_lexer": "ipython3",
   "version": "3.11.11"
  }
 },
 "nbformat": 4,
 "nbformat_minor": 5
}
