{
 "cells": [
  {
   "cell_type": "code",
   "execution_count": 1,
   "id": "7ebbf0d5-846e-4e13-bba8-9c2b4a1b0edc",
   "metadata": {},
   "outputs": [
    {
     "name": "stderr",
     "output_type": "stream",
     "text": [
      "2025-02-26 14:16:42.516319: E external/local_xla/xla/stream_executor/cuda/cuda_fft.cc:477] Unable to register cuFFT factory: Attempting to register factory for plugin cuFFT when one has already been registered\n",
      "WARNING: All log messages before absl::InitializeLog() is called are written to STDERR\n",
      "E0000 00:00:1740579402.527423  109911 cuda_dnn.cc:8310] Unable to register cuDNN factory: Attempting to register factory for plugin cuDNN when one has already been registered\n",
      "E0000 00:00:1740579402.530350  109911 cuda_blas.cc:1418] Unable to register cuBLAS factory: Attempting to register factory for plugin cuBLAS when one has already been registered\n"
     ]
    }
   ],
   "source": [
    "import clrs\n",
    "import jax\n",
    "import numpy as np\n",
    "\n",
    "rng = np.random.RandomState(42)\n",
    "rng_key = jax.random.PRNGKey(rng.randint(2**31))\n",
    "NUM_SAMPLES = 1000\n",
    "\n",
    "# Create samplers\n",
    "sampler, spec = clrs.build_sampler(\n",
    "        \"bellman_ford\",\n",
    "        seed=rng.randint(2**31),\n",
    "        num_samples=NUM_SAMPLES,\n",
    "        length=7,\n",
    "        )\n",
    "# batch_size = feedback.outputs[0].data.shape[0]\n",
    "# new_rng_key, rng_key = jax.random.split(rng_key)\n"
   ]
  },
  {
   "cell_type": "code",
   "execution_count": 2,
   "id": "33c96977-11f2-45f9-ab51-8452c433e5c6",
   "metadata": {},
   "outputs": [],
   "source": [
    "import numpy as np\n",
    "import networkx as nx\n",
    "import matplotlib.pyplot as plt\n",
    "\n",
    "def visualize_graph_from_adjacency_matrix(adjacency_matrix, weight_matrix=None):\n",
    "    \"\"\"\n",
    "    Visualizes a graph with explicit arrows and labeled edge weights (adjacent).\n",
    "\n",
    "    Args:\n",
    "        adjacency_matrix: Adjacency matrix (NumPy array).\n",
    "        weight_matrix: Optional weight matrix (NumPy array).\n",
    "    \"\"\"\n",
    "\n",
    "    adjacency_matrix = np.array(adjacency_matrix)\n",
    "    if adjacency_matrix.shape[0] != adjacency_matrix.shape[1]:\n",
    "        raise ValueError(\"Adjacency matrix must be square.\")\n",
    "    num_nodes = adjacency_matrix.shape[0]\n",
    "\n",
    "    if weight_matrix is None:\n",
    "        weight_matrix = np.ones_like(adjacency_matrix)\n",
    "    else:\n",
    "        weight_matrix = np.array(weight_matrix)\n",
    "        if weight_matrix.shape != adjacency_matrix.shape:\n",
    "            raise ValueError(\"Weight matrix must have the same dimensions.\")\n",
    "\n",
    "    directed_graph = nx.DiGraph()\n",
    "    undirected_graph = nx.Graph()\n",
    "\n",
    "    for i in range(num_nodes):\n",
    "        directed_graph.add_node(i)\n",
    "        undirected_graph.add_node(i)\n",
    "\n",
    "    for i in range(num_nodes):\n",
    "        for j in range(num_nodes):\n",
    "            if i != j:\n",
    "                if adjacency_matrix[i, j] != 0:\n",
    "                    weight = round(weight_matrix[i, j], 2)\n",
    "                    if adjacency_matrix[j, i] != 0:\n",
    "                        if i < j:\n",
    "                            undirected_graph.add_edge(i, j, weight=weight)\n",
    "                    else:\n",
    "                        directed_graph.add_edge(i, j, weight=weight)\n",
    "\n",
    "    pos = nx.spring_layout(undirected_graph)  # Layout based on undirected\n",
    "\n",
    "    plt.figure(figsize=(8, 6))\n",
    "\n",
    "    # Draw undirected edges (no arrows)\n",
    "    nx.draw_networkx_edges(undirected_graph, pos, edge_color='gray', width=2, arrows=False)\n",
    "    edge_labels_undirected = nx.get_edge_attributes(undirected_graph, 'weight')\n",
    "    # Use label_pos and rotate for adjacent labels\n",
    "    nx.draw_networkx_edge_labels(undirected_graph, pos, edge_labels=edge_labels_undirected,\n",
    "                                 label_pos=0.3, rotate=True)\n",
    "\n",
    "    # Draw directed edges with explicit arrows\n",
    "    nx.draw_networkx_edges(directed_graph, pos, edge_color='black', width=1,\n",
    "                           arrowstyle='->', arrowsize=15)\n",
    "    edge_labels_directed = nx.get_edge_attributes(directed_graph, 'weight')\n",
    "    # Use label_pos and rotate for adjacent labels\n",
    "    nx.draw_networkx_edge_labels(directed_graph, pos, edge_labels=edge_labels_directed,\n",
    "                                 label_pos=0.3, rotate=True)\n",
    "\n",
    "    nx.draw_networkx_nodes(directed_graph, pos, node_color='skyblue', node_size=500)\n",
    "    nx.draw_networkx_labels(directed_graph, pos)\n",
    "\n",
    "    plt.title(\"Graph Visualization\")\n",
    "    plt.axis('off')\n",
    "    plt.show()"
   ]
  },
  {
   "cell_type": "code",
   "execution_count": 3,
   "id": "ec11e83a-b751-4495-b2d1-bb3e5c1c002b",
   "metadata": {},
   "outputs": [],
   "source": [
    "feedback = sampler.next()"
   ]
  },
  {
   "cell_type": "code",
   "execution_count": 4,
   "id": "374bb5f7-1b8e-411d-ab45-9303c59488c5",
   "metadata": {},
   "outputs": [],
   "source": [
    "import random\n",
    "item = random.randint(1, NUM_SAMPLES) - 1"
   ]
  },
  {
   "cell_type": "code",
   "execution_count": 5,
   "id": "390676b3-f09b-47a3-bc1e-3feb507bbf28",
   "metadata": {},
   "outputs": [],
   "source": [
    "weights = feedback.features.inputs[2].data[item]\n",
    "adj = feedback.features.inputs[3].data[item]"
   ]
  },
  {
   "cell_type": "code",
   "execution_count": 6,
   "id": "2740d1dd-ef34-4a12-b903-59ce952aa19b",
   "metadata": {},
   "outputs": [
    {
     "data": {
      "image/png": "[encoded data removed]",
      "text/plain": [
       "<Figure size 800x600 with 1 Axes>"
      ]
     },
     "metadata": {},
     "output_type": "display_data"
    }
   ],
   "source": [
    "visualize_graph_from_adjacency_matrix(adj, weights)"
   ]
  },
  {
   "cell_type": "code",
   "execution_count": 7,
   "id": "4cef1909-4f27-4a16-b75a-17eb26747ea6",
   "metadata": {},
   "outputs": [
    {
     "data": {
      "text/plain": [
       "array([0, 1, 6, 4, 5, 5, 3])"
      ]
     },
     "execution_count": 7,
     "metadata": {},
     "output_type": "execute_result"
    }
   ],
   "source": [
    "feedback.outputs[0].data[item] # pi ground truth"
   ]
  },
  {
   "cell_type": "code",
   "execution_count": 8,
   "id": "f9a99257-3b1c-46a4-bd84-ce948441a45c",
   "metadata": {},
   "outputs": [
    {
     "data": {
      "text/plain": [
       "[DataPoint(name=\"pos\",\tlocation=node,\ttype=scalar,\tdata=Array(1000, 7)),\n",
       " DataPoint(name=\"s\",\tlocation=node,\ttype=mask_one,\tdata=Array(1000, 7)),\n",
       " DataPoint(name=\"A\",\tlocation=edge,\ttype=scalar,\tdata=Array(1000, 7, 7)),\n",
       " DataPoint(name=\"adj\",\tlocation=edge,\ttype=mask,\tdata=Array(1000, 7, 7))]"
      ]
     },
     "execution_count": 8,
     "metadata": {},
     "output_type": "execute_result"
    }
   ],
   "source": [
    "feedback.features.inputs"
   ]
  },
  {
   "cell_type": "code",
   "execution_count": 107,
   "id": "5d5c5e7f-7df0-4712-919c-e3dcf54025e8",
   "metadata": {},
   "outputs": [
    {
     "data": {
      "text/plain": [
       "array([0., 0., 0., 1., 0., 0., 0.])"
      ]
     },
     "execution_count": 107,
     "metadata": {},
     "output_type": "execute_result"
    }
   ],
   "source": [
    "feedback.features.inputs[1].data[item] # starting value"
   ]
  },
  {
   "cell_type": "code",
   "execution_count": 108,
   "id": "b1be8076-4b97-49e3-86ec-6afacb7dd76c",
   "metadata": {},
   "outputs": [
    {
     "data": {
      "text/plain": [
       "{'pos': ('input', 'node', 'scalar'),\n",
       " 's': ('input', 'node', 'mask_one'),\n",
       " 'A': ('input', 'edge', 'scalar'),\n",
       " 'adj': ('input', 'edge', 'mask'),\n",
       " 'pi': ('output', 'node', 'pointer'),\n",
       " 'pi_h': ('hint', 'node', 'pointer'),\n",
       " 'd': ('hint', 'node', 'scalar'),\n",
       " 'msk': ('hint', 'node', 'mask'),\n",
       " 'upd_pi': ('hint', 'node', 'pointer'),\n",
       " 'upd_d': ('hint', 'node', 'scalar')}"
      ]
     },
     "execution_count": 108,
     "metadata": {},
     "output_type": "execute_result"
    }
   ],
   "source": [
    "spec"
   ]
  },
  {
   "cell_type": "code",
   "execution_count": 109,
   "id": "c0f509a4-eef8-436b-b5d1-4e56744b8f95",
   "metadata": {},
   "outputs": [
    {
     "data": {
      "text/plain": [
       "array([[0., 1., 2., 3., 4., 5., 6.],\n",
       "       [0., 1., 2., 3., 3., 3., 6.],\n",
       "       [0., 5., 5., 3., 3., 3., 6.],\n",
       "       [1., 5., 5., 3., 3., 3., 2.],\n",
       "       [0., 0., 0., 0., 0., 0., 0.],\n",
       "       [0., 0., 0., 0., 0., 0., 0.],\n",
       "       [0., 0., 0., 0., 0., 0., 0.]])"
      ]
     },
     "execution_count": 109,
     "metadata": {},
     "output_type": "execute_result"
    }
   ],
   "source": [
    "feedback.features.hints[0].data[:,item,:] #pi hints"
   ]
  },
  {
   "cell_type": "code",
   "execution_count": 110,
   "id": "6645cede-0d56-4044-9d95-3eb0c502db51",
   "metadata": {},
   "outputs": [
    {
     "data": {
      "text/plain": [
       "array([[0.        , 0.        , 0.        , 0.        , 0.        ,\n",
       "        0.        , 0.        ],\n",
       "       [0.        , 0.        , 0.        , 0.        , 0.48810113,\n",
       "        0.48536958, 0.        ],\n",
       "       [0.        , 0.97659785, 0.84423094, 0.        , 0.48810113,\n",
       "        0.48536958, 0.        ],\n",
       "       [1.24105017, 0.97659785, 0.84423094, 0.        , 0.48810113,\n",
       "        0.48536958, 1.39730722],\n",
       "       [0.        , 0.        , 0.        , 0.        , 0.        ,\n",
       "        0.        , 0.        ],\n",
       "       [0.        , 0.        , 0.        , 0.        , 0.        ,\n",
       "        0.        , 0.        ],\n",
       "       [0.        , 0.        , 0.        , 0.        , 0.        ,\n",
       "        0.        , 0.        ]])"
      ]
     },
     "execution_count": 110,
     "metadata": {},
     "output_type": "execute_result"
    }
   ],
   "source": [
    "feedback.features.hints[1].data[:,item,:] #current best distances"
   ]
  },
  {
   "cell_type": "code",
   "execution_count": 111,
   "id": "41c022e9-50e6-4f48-8470-5f3d57c88783",
   "metadata": {},
   "outputs": [
    {
     "data": {
      "text/plain": [
       "array([[0., 0., 0., 1., 0., 0., 0.],\n",
       "       [0., 0., 0., 1., 1., 1., 0.],\n",
       "       [0., 1., 1., 1., 1., 1., 0.],\n",
       "       [1., 1., 1., 1., 1., 1., 1.],\n",
       "       [0., 0., 0., 0., 0., 0., 0.],\n",
       "       [0., 0., 0., 0., 0., 0., 0.],\n",
       "       [0., 0., 0., 0., 0., 0., 0.]])"
      ]
     },
     "execution_count": 111,
     "metadata": {},
     "output_type": "execute_result"
    }
   ],
   "source": [
    "feedback.features.hints[2].data[:,item,:] #msk for nodes explored at each step"
   ]
  },
  {
   "cell_type": "code",
   "execution_count": 112,
   "id": "2e341bc7-72b5-4698-a7eb-1f3eff56b5f8",
   "metadata": {},
   "outputs": [
    {
     "data": {
      "text/plain": [
       "array([[-1., -1., -1., -1., -1., -1., -1.],\n",
       "       [-1., -1., -1., -1.,  3.,  3., -1.],\n",
       "       [-1.,  5.,  5., -1., -1., -1., -1.],\n",
       "       [ 1., -1., -1., -1., -1., -1.,  2.],\n",
       "       [ 0.,  0.,  0.,  0.,  0.,  0.,  0.],\n",
       "       [ 0.,  0.,  0.,  0.,  0.,  0.,  0.],\n",
       "       [ 0.,  0.,  0.,  0.,  0.,  0.,  0.]])"
      ]
     },
     "execution_count": 112,
     "metadata": {},
     "output_type": "execute_result"
    }
   ],
   "source": [
    "feedback.features.hints[3].data[:,item,:] #predecessors updated at each step"
   ]
  },
  {
   "cell_type": "code",
   "execution_count": 113,
   "id": "e1e1f3af",
   "metadata": {},
   "outputs": [
    {
     "data": {
      "text/plain": [
       "array([[-1.        , -1.        , -1.        , -1.        , -1.        ,\n",
       "        -1.        , -1.        ],\n",
       "       [-1.        , -1.        , -1.        , -1.        ,  0.48810113,\n",
       "         0.48536958, -1.        ],\n",
       "       [-1.        ,  0.97659785,  0.84423094, -1.        , -1.        ,\n",
       "        -1.        , -1.        ],\n",
       "       [ 1.24105017, -1.        , -1.        , -1.        , -1.        ,\n",
       "        -1.        ,  1.39730722],\n",
       "       [ 0.        ,  0.        ,  0.        ,  0.        ,  0.        ,\n",
       "         0.        ,  0.        ],\n",
       "       [ 0.        ,  0.        ,  0.        ,  0.        ,  0.        ,\n",
       "         0.        ,  0.        ],\n",
       "       [ 0.        ,  0.        ,  0.        ,  0.        ,  0.        ,\n",
       "         0.        ,  0.        ]])"
      ]
     },
     "execution_count": 113,
     "metadata": {},
     "output_type": "execute_result"
    }
   ],
   "source": [
    "feedback.features.hints[4].data[:,item,:] #distances updated at each step"
   ]
  }
 ],
 "metadata": {
  "kernelspec": {
   "display_name": "Python 3 (ipykernel)",
   "language": "python",
   "name": "python3"
  },
  "language_info": {
   "codemirror_mode": {
    "name": "ipython",
    "version": 3
   },
   "file_extension": ".py",
   "mimetype": "text/x-python",
   "name": "python",
   "nbconvert_exporter": "python",
   "pygments_lexer": "ipython3",
   "version": "3.11.11"
  }
 },
 "nbformat": 4,
 "nbformat_minor": 5
}
