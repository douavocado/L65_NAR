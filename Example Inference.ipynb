{
 "cells": [
  {
   "cell_type": "code",
   "execution_count": null,
   "id": "7ebbf0d5-846e-4e13-bba8-9c2b4a1b0edc",
   "metadata": {},
   "outputs": [],
   "source": [
    "import functools\n",
    "import os\n",
    "import shutil\n",
    "from typing import Any, Dict, List, Optional\n",
    "\n",
    "from absl import app\n",
    "from absl import flags\n",
    "from absl import logging\n",
    "import clrs\n",
    "import jax\n",
    "import numpy as np\n",
    "import requests\n",
    "import tensorflow as tf\n",
    "import networkx as nx\n",
    "import matplotlib.pyplot as plt\n",
    "import random\n",
    "\n",
    "def visualise_graph(adjacency_matrix, start_node_array, bfs_path, title=\"\"):\n",
    "    \"\"\"\n",
    "    Visualizes a graph and its BFS traversal, highlighting the starting node and\n",
    "    showing the traversal path with directed arrows.\n",
    "\n",
    "    Args:\n",
    "        adjacency_matrix: Adjacency matrix (NumPy array).\n",
    "        start_node_array: Starting node indicator (NumPy array).\n",
    "        bfs_path: BFS traversal path (NumPy array). bfs_path[i] = j means j is i's predecessor.\n",
    "\n",
    "    Returns:\n",
    "        None (displays the graph visualization).\n",
    "    \"\"\"\n",
    "\n",
    "    # --- Input Validation --- (Same as before, included for completeness)\n",
    "    if not isinstance(adjacency_matrix, np.ndarray) or adjacency_matrix.ndim != 2 or adjacency_matrix.shape[0] != adjacency_matrix.shape[1]:\n",
    "        raise ValueError(\"adjacency_matrix must be a square 2D NumPy array.\")\n",
    "    if not isinstance(start_node_array, np.ndarray) or start_node_array.ndim != 1 or start_node_array.size != adjacency_matrix.shape[0]:\n",
    "        raise ValueError(\"start_node_array must be a 1D NumPy array with the same size as the adjacency matrix dimensions.\")\n",
    "    if np.sum(start_node_array) != 1:\n",
    "        raise ValueError(\"start_node_array must contain exactly one '1'.\")\n",
    "    if not np.all((start_node_array == 0) | (start_node_array == 1)):\n",
    "        raise ValueError(\"start_node_array must contain only 0s and 1s\")\n",
    "    if bfs_path.ndim != 1 or bfs_path.size != adjacency_matrix.shape[0]:\n",
    "        raise ValueError(\"bfs_path must be a 1D NumPy array with the same size.\")\n",
    "    if not np.all(bfs_path >= 0) or not np.all(bfs_path < adjacency_matrix.shape[0]):\n",
    "        raise ValueError(\"bfs_path contains invalid node indices.\")\n",
    "    start_node_index = np.where(start_node_array == 1)[0][0]\n",
    "    if bfs_path[start_node_index] != start_node_index:\n",
    "        raise ValueError(\"Starting node's predecessor must be itself.\")\n",
    "\n",
    "    # --- 1. Create the graph (as a DiGraph for directed edges) ---\n",
    "    num_nodes = adjacency_matrix.shape[0]\n",
    "    graph = nx.DiGraph()  # Use DiGraph for directed edges\n",
    "    graph.add_nodes_from(range(num_nodes))\n",
    "\n",
    "    # Add edges for the underlying graph structure (still undirected for visualization)\n",
    "    undirected_graph = nx.Graph()\n",
    "    undirected_graph.add_nodes_from(range(num_nodes))\n",
    "    for i in range(num_nodes):\n",
    "        for j in range(i + 1, num_nodes):\n",
    "            if adjacency_matrix[i, j] == 1:\n",
    "                undirected_graph.add_edge(i, j)\n",
    "\n",
    "\n",
    "    # --- 2. Add directed edges for the BFS traversal ---\n",
    "    for i in range(num_nodes):\n",
    "        predecessor = bfs_path[i]\n",
    "        if predecessor != i:  # Don't add self-loops\n",
    "            graph.add_edge(predecessor, i)  # Add directed edge\n",
    "\n",
    "    # --- 3. Node colors ---\n",
    "    node_colors = ['skyblue'] * num_nodes\n",
    "    node_colors[start_node_index] = 'red'\n",
    "\n",
    "    # --- 4. Visualize ---\n",
    "    pos = nx.spring_layout(undirected_graph)  # Use layout from the *undirected* graph\n",
    "\n",
    "    plt.figure(figsize=(8, 6))\n",
    "\n",
    "    # Draw the underlying undirected graph structure (without arrows)\n",
    "    nx.draw_networkx_nodes(undirected_graph, pos, node_color=node_colors, node_size=800)\n",
    "    nx.draw_networkx_labels(undirected_graph, pos, font_size=10, font_weight='bold')\n",
    "    nx.draw_networkx_edges(undirected_graph, pos, edge_color='gray', width=1.0, arrows=False) # No arrows here\n",
    "\n",
    "    # Draw the BFS traversal as directed edges (with arrows)\n",
    "    nx.draw_networkx_edges(graph, pos, edge_color='red', width=2.0, arrowstyle='-|>', arrowsize=20)\n",
    "\n",
    "    plt.title(title)\n",
    "    plt.show()\n",
    "\n",
    "\n",
    "NUM_SAMPLES = 1000\n",
    "encode_hints = True\n",
    "decode_hints = True\n",
    "train_lengths = ['4', '7', '11', '13', '16']\n",
    "train_lengths = [int(x) for x in train_lengths]\n",
    "\n",
    "alg = \"bfs\"\n",
    "\n",
    "rng = np.random.RandomState(42)\n",
    "rng_key = jax.random.PRNGKey(rng.randint(2**32, dtype=np.int64))\n",
    "\n",
    "# Create samplers\n",
    "sampler, spec = clrs.build_sampler(\n",
    "        alg,\n",
    "        seed=rng.randint(2**32, dtype=np.int64),\n",
    "        num_samples=NUM_SAMPLES,\n",
    "        length=7,\n",
    "        )\n",
    "\n",
    "processor_factory = clrs.get_processor_factory(\n",
    "    'triplet_gmpnn',\n",
    "    use_ln=True,\n",
    "    nb_triplet_fts=8,\n",
    "    nb_heads=1,\n",
    "    )\n",
    "model_params = dict(\n",
    "    processor_factory=processor_factory,\n",
    "    hidden_dim=128,\n",
    "    encode_hints=encode_hints,\n",
    "    decode_hints=decode_hints,\n",
    "    encoder_init='xavier_on_scalars',\n",
    "    use_lstm=False,\n",
    "    learning_rate=0.001,\n",
    "    grad_clip_max_norm=1.0,\n",
    "    checkpoint_path='checkpoints/CLRS30',\n",
    "    freeze_processor=False,\n",
    "    dropout_prob=0.0,\n",
    "    hint_teacher_forcing=0.0,\n",
    "    hint_repred_mode='soft',\n",
    "    nb_msg_passing_steps=1,\n",
    "    )\n",
    "dummy_traj = [sampler.next()]\n",
    "model = clrs.models.BaselineModel(\n",
    "  spec=[spec],\n",
    "  dummy_trajectory=dummy_traj,\n",
    "    get_inter=True,\n",
    "  **model_params\n",
    ")\n",
    "\n",
    "# feedback_list = [next(t) for t in train_samplers]\n",
    "\n",
    "# # Initialize model.\n",
    "all_features = [f.features for f in dummy_traj]\n",
    "model.init(all_features, 43)\n",
    "\n",
    "model.restore_model(f'best_{alg}.pkl', only_load_processor=False)\n",
    "\n",
    "\n",
    "feedback = sampler.next()\n",
    "# batch_size = feedback.outputs[0].data.shape[0]\n",
    "new_rng_key, rng_key = jax.random.split(rng_key)\n",
    "\n",
    "preds, _, hist = model.predict(new_rng_key, feedback.features)\n"
   ]
  },
  {
   "cell_type": "code",
   "execution_count": 62,
   "id": "3740a668-19dc-46fa-b164-e92c691361f6",
   "metadata": {},
   "outputs": [
    {
     "data": {
      "image/png": "[encoded data removed]",
      "text/plain": [
       "<Figure size 800x600 with 1 Axes>"
      ]
     },
     "metadata": {},
     "output_type": "display_data"
    },
    {
     "data": {
      "image/png": "[encoded data removed]",
      "text/plain": [
       "<Figure size 800x600 with 1 Axes>"
      ]
     },
     "metadata": {},
     "output_type": "display_data"
    }
   ],
   "source": [
    "item = random.randint(0, NUM_SAMPLES)\n",
    "adj = feedback.features.inputs[3].data[item]\n",
    "start = feedback.features.inputs[1].data[item]\n",
    "bfs_path = feedback.outputs[0].data[item]\n",
    "pred_path = np.array(preds[\"pi\"].data[item].astype(np.int32).tolist())\n",
    "visualise_graph(adj, start, bfs_path, title=\"ground truth\")\n",
    "visualise_graph(adj, start, pred_path, title=\"predicted\")"
   ]
  },
  {
   "cell_type": "code",
   "execution_count": 63,
   "id": "2f12dbf6-5137-42ec-b7de-391b64aeb1e1",
   "metadata": {},
   "outputs": [
    {
     "data": {
      "text/plain": [
       "array([[0., 0., 0., 0., 1., 0., 0.],\n",
       "       [0., 0., 0., 0., 1., 1., 0.],\n",
       "       [0., 0., 0., 1., 1., 1., 0.],\n",
       "       [1., 0., 1., 1., 1., 1., 1.],\n",
       "       [1., 1., 1., 1., 1., 1., 1.],\n",
       "       [0., 0., 0., 0., 0., 0., 0.],\n",
       "       [0., 0., 0., 0., 0., 0., 0.]])"
      ]
     },
     "execution_count": 63,
     "metadata": {},
     "output_type": "execute_result"
    }
   ],
   "source": [
    "feedback.features.hints[0].data[:,item,:]"
   ]
  },
  {
   "cell_type": "code",
   "execution_count": 64,
   "id": "1a0b5019-9553-4ace-9ef6-ef16facb3e5b",
   "metadata": {},
   "outputs": [
    {
     "data": {
      "text/plain": [
       "[DataPoint(name=\"reach_h\",\tlocation=node,\ttype=mask,\tdata=Array(7, 1000, 7)),\n",
       " DataPoint(name=\"pi_h\",\tlocation=node,\ttype=pointer,\tdata=Array(7, 1000, 7))]"
      ]
     },
     "execution_count": 64,
     "metadata": {},
     "output_type": "execute_result"
    }
   ],
   "source": [
    "feedback.features.hints"
   ]
  },
  {
   "cell_type": "code",
   "execution_count": 65,
   "id": "83e7953b-a202-42db-9580-6fa24fdb7d3c",
   "metadata": {},
   "outputs": [
    {
     "data": {
      "text/plain": [
       "6"
      ]
     },
     "execution_count": 65,
     "metadata": {},
     "output_type": "execute_result"
    }
   ],
   "source": [
    "len(hist)"
   ]
  },
  {
   "cell_type": "code",
   "execution_count": 75,
   "id": "3e8c7655-6b5c-4291-8bc4-25b52ee88137",
   "metadata": {},
   "outputs": [
    {
     "data": {
      "text/plain": [
       "Array([[[ 3.34121078e-01,  9.61559862e-02, -5.84652305e-01, ...,\n",
       "          3.47747350e+00, -6.97538853e-02, -6.19709343e-02],\n",
       "        [ 1.99612066e-01,  1.53062105e-01, -5.68868160e-01, ...,\n",
       "          3.33599281e+00, -4.80554551e-02, -3.75083126e-02],\n",
       "        [ 1.73052967e-01,  4.12990786e-02, -5.69555640e-01, ...,\n",
       "          3.48870659e+00, -8.14430490e-02, -3.04422453e-02],\n",
       "        ...,\n",
       "        [-1.30484372e-01,  1.82596259e-02, -5.26987612e-01, ...,\n",
       "          3.39771724e+00, -5.54738715e-02, -1.65732335e-02],\n",
       "        [-1.17520839e-01, -4.78846574e-04, -6.01140738e-01, ...,\n",
       "         -6.02871180e-01, -6.18229091e-01, -6.22990549e-01],\n",
       "        [-2.58127488e-02, -1.51119348e-05, -5.57273448e-01, ...,\n",
       "         -5.57856619e-01, -5.73954999e-01, -5.80540776e-01]],\n",
       "\n",
       "       [[ 1.15358857e-02,  1.78042240e-02, -6.40759051e-01, ...,\n",
       "         -6.43494964e-01, -6.58430994e-01, -6.41319871e-01],\n",
       "        [-6.79803127e-03, -7.05041457e-05, -5.82553089e-01, ...,\n",
       "         -5.83853483e-01, -5.99532247e-01, -6.06156886e-01],\n",
       "        [-7.89488629e-02, -6.58929232e-04, -6.23895586e-01, ...,\n",
       "         -6.26225173e-01, -6.41202748e-01, -6.46841824e-01],\n",
       "        ...,\n",
       "        [-9.52790529e-02, -5.47888456e-04, -6.18543386e-01, ...,\n",
       "         -6.20723844e-01, -6.35823965e-01, -6.40549302e-01],\n",
       "        [-2.00640753e-01,  4.63500153e-03, -6.16356313e-01, ...,\n",
       "         -6.18475199e-01, -6.33769631e-01, -5.90721726e-01],\n",
       "        [-2.15519473e-01, -4.27419029e-04, -6.14772797e-01, ...,\n",
       "         -6.16853774e-01, -6.32103145e-01, -5.69490254e-01]],\n",
       "\n",
       "       [[-8.54319427e-03, -1.69870546e-04, -5.74109793e-01, ...,\n",
       "         -5.75117946e-01, -5.90941012e-01, -5.97638369e-01],\n",
       "        [ 2.18463033e-01,  5.76798953e-02, -5.58480144e-01, ...,\n",
       "          3.35750794e+00, -6.66420087e-02, -3.76862921e-02],\n",
       "        [-1.13249443e-01,  5.71063859e-03, -6.57069623e-01, ...,\n",
       "         -6.60280287e-01, -6.74332142e-01, -6.53145730e-01],\n",
       "        ...,\n",
       "        [-1.43556580e-01,  1.02668535e-02, -5.21351337e-01, ...,\n",
       "          3.33357787e+00, -5.46011291e-02, -1.68467797e-02],\n",
       "        [-1.15012839e-01, -4.26354818e-04, -6.03592217e-01, ...,\n",
       "         -6.05386853e-01, -6.20711505e-01, -6.25253260e-01],\n",
       "        [-2.70483106e-01, -1.12340972e-02, -5.09767175e-01, ...,\n",
       "          3.32152367e+00, -5.52895144e-02, -1.01566417e-02]],\n",
       "\n",
       "       ...,\n",
       "\n",
       "       [[ 1.67609677e-02,  1.11242831e-02, -6.43902540e-01, ...,\n",
       "         -6.46722198e-01, -6.61621869e-01, -6.45103514e-01],\n",
       "        [-8.48958082e-03, -1.54227106e-04, -5.82166851e-01, ...,\n",
       "         -5.83461702e-01, -5.99145532e-01, -6.05775356e-01],\n",
       "        [-7.32968524e-02,  1.13366060e-02, -6.35437906e-01, ...,\n",
       "         -6.38049662e-01, -6.53020799e-01, -6.33875430e-01],\n",
       "        ...,\n",
       "        [-8.61882642e-02, -5.23743860e-04, -6.18839979e-01, ...,\n",
       "         -6.21031046e-01, -6.36112809e-01, -6.40782654e-01],\n",
       "        [-2.26418465e-01,  1.13303226e-03, -6.14140093e-01, ...,\n",
       "         -6.16211712e-01, -6.31183088e-01, -4.85218942e-01],\n",
       "        [-2.26279244e-01, -6.20774052e-04, -6.14915252e-01, ...,\n",
       "         -6.17003441e-01, -6.32132232e-01, -5.48530698e-01]],\n",
       "\n",
       "       [[-7.09656253e-02, -7.72322062e-04, -6.29210174e-01, ...,\n",
       "         -6.31673574e-01, -6.46585941e-01, -6.53453350e-01],\n",
       "        [-7.11164623e-02,  9.67113767e-03, -6.54396772e-01, ...,\n",
       "         -6.57505751e-01, -6.72020316e-01, -6.43257499e-01],\n",
       "        [-9.67819169e-02, -8.83672677e-04, -6.22324646e-01, ...,\n",
       "         -6.24613345e-01, -6.39621198e-01, -6.45885885e-01],\n",
       "        ...,\n",
       "        [-7.31817111e-02,  3.01212072e-02, -5.46942294e-01, ...,\n",
       "          3.09506774e+00, -7.33261779e-02, -1.62828434e-02],\n",
       "        [-2.45053455e-01,  8.20750650e-03, -6.29935563e-01, ...,\n",
       "         -6.32398188e-01, -6.47398233e-01, -5.44375539e-01],\n",
       "        [-1.39861271e-01, -7.06810912e-04, -5.98173618e-01, ...,\n",
       "         -5.99824488e-01, -6.15244985e-01, -6.19373441e-01]],\n",
       "\n",
       "       [[ 3.03398594e-02,  1.41040655e-02, -6.57259107e-01, ...,\n",
       "         -6.60477400e-01, -6.74633861e-01, -6.69508576e-01],\n",
       "        [-7.85487443e-02, -7.21817371e-04, -6.26511514e-01, ...,\n",
       "         -6.28909647e-01, -6.43858731e-01, -6.50291562e-01],\n",
       "        [-1.24684125e-02, -1.47446663e-05, -5.68182290e-01, ...,\n",
       "         -5.69052875e-01, -5.84971845e-01, -5.91625333e-01],\n",
       "        ...,\n",
       "        [-1.70110464e-01,  3.85650387e-03, -6.43617272e-01, ...,\n",
       "         -6.46459341e-01, -6.61021113e-01, -6.29453540e-01],\n",
       "        [-2.45838612e-01,  5.99285122e-03, -5.15679538e-01, ...,\n",
       "          3.24939251e+00, -6.01941720e-02, -1.33580416e-02],\n",
       "        [-2.35414684e-01, -2.01843170e-04, -6.24662161e-01, ...,\n",
       "         -6.27003670e-01, -6.42027736e-01, -5.91244102e-01]]],      dtype=float32)"
      ]
     },
     "execution_count": 75,
     "metadata": {},
     "output_type": "execute_result"
    }
   ],
   "source": [
    "hist[4].hiddens"
   ]
  },
  {
   "cell_type": "code",
   "execution_count": 67,
   "id": "b832de58-2d89-44ff-922d-4f829f8153a5",
   "metadata": {},
   "outputs": [],
   "source": [
    "pred_hints_reach_h = np.stack([hist[i].hint_preds['reach_h'] for i in range(6)],axis=1)"
   ]
  },
  {
   "cell_type": "code",
   "execution_count": 68,
   "id": "243a1d35-e3fe-49d5-9499-88873f91c6da",
   "metadata": {},
   "outputs": [],
   "source": [
    "def softmax_rows(x):\n",
    "    \"\"\"Applies the softmax function to each row of a NumPy array.\n",
    "\n",
    "    Args:\n",
    "        x: A NumPy array (2D).\n",
    "\n",
    "    Returns:\n",
    "        A NumPy array with the same shape as x, where each row has been\n",
    "        normalized with the softmax function (so each row sums to 1).\n",
    "    \"\"\"\n",
    "    # Subtract the max for numerical stability (avoid overflow).\n",
    "    x_shifted = x - np.max(x, axis=1, keepdims=True)\n",
    "    # Exponentiate\n",
    "    exp_x = np.exp(x_shifted)\n",
    "    # Sum along rows (axis=1) and keep the dimensions for broadcasting\n",
    "    sum_exp_x = np.sum(exp_x, axis=1, keepdims=True)\n",
    "    # Divide each element by the sum of its row\n",
    "    return np.round(exp_x / sum_exp_x,1)\n"
   ]
  },
  {
   "cell_type": "code",
   "execution_count": 69,
   "id": "bcfd159f-9816-4fd7-859a-f1a503159a02",
   "metadata": {},
   "outputs": [
    {
     "data": {
      "text/plain": [
       "array([[0. , 0. , 0. , 0. , 0.9, 0.1, 0. ],\n",
       "       [0. , 0. , 0. , 0. , 0.6, 0.4, 0. ],\n",
       "       [0. , 0. , 0. , 0.2, 0.4, 0.4, 0. ],\n",
       "       [0.1, 0. , 0.1, 0.2, 0.3, 0.2, 0.1],\n",
       "       [0.1, 0.1, 0.1, 0.1, 0.4, 0.2, 0.1],\n",
       "       [0.1, 0.1, 0.1, 0.1, 0.4, 0.2, 0.1]], dtype=float32)"
      ]
     },
     "execution_count": 69,
     "metadata": {},
     "output_type": "execute_result"
    }
   ],
   "source": [
    "softmax_rows(pred_hints_reach_h[item])"
   ]
  },
  {
   "cell_type": "code",
   "execution_count": null,
   "id": "45d4ba0d-3f63-45b9-8128-f1476ad1aa73",
   "metadata": {},
   "outputs": [],
   "source": []
  }
 ],
 "metadata": {
  "kernelspec": {
   "display_name": "Python 3 (ipykernel)",
   "language": "python",
   "name": "python3"
  },
  "language_info": {
   "codemirror_mode": {
    "name": "ipython",
    "version": 3
   },
   "file_extension": ".py",
   "mimetype": "text/x-python",
   "name": "python",
   "nbconvert_exporter": "python",
   "pygments_lexer": "ipython3",
   "version": "3.11.11"
  }
 },
 "nbformat": 4,
 "nbformat_minor": 5
}
